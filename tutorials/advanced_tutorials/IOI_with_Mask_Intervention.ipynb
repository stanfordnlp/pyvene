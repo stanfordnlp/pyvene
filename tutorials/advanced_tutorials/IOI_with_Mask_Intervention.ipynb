{
 "cells": [
  {
   "cell_type": "markdown",
   "id": "a84a6b93",
   "metadata": {},
   "source": [
    "## IOI with Masked Interventions"
   ]
  },
  {
   "cell_type": "code",
   "execution_count": null,
   "id": "85342a5b",
   "metadata": {},
   "outputs": [],
   "source": [
    "__author__ = \"Zhengxuan Wu\"\n",
    "__version__ = \"01/31/2024\""
   ]
  },
  {
   "cell_type": "markdown",
   "id": "e15a59bf",
   "metadata": {},
   "source": [
    "### Overview\n",
    "\n",
    "This tutorial analyzes the IOI task with a new type of trainable intervention, masked interchange intervention"
   ]
  },
  {
   "cell_type": "markdown",
   "id": "d32b1cb3",
   "metadata": {},
   "source": [
    "### Set-up"
   ]
  },
  {
   "cell_type": "code",
   "execution_count": null,
   "id": "213a933b",
   "metadata": {},
   "outputs": [],
   "source": [
    "try:\n",
    "    # This library is our indicator that the required installs\n",
    "    # need to be done.\n",
    "    import pyvene\n",
    "\n",
    "except ModuleNotFoundError:\n",
    "    !pip install git+https://github.com/stanfordnlp/pyvene.git"
   ]
  },
  {
   "cell_type": "code",
   "execution_count": 1,
   "id": "9decbfe0",
   "metadata": {},
   "outputs": [],
   "source": [
    "import sys\n",
    "sys.path.append(\"../..\")"
   ]
  },
  {
   "cell_type": "code",
   "execution_count": 2,
   "id": "380028cc",
   "metadata": {},
   "outputs": [
    {
     "name": "stdout",
     "output_type": "stream",
     "text": [
      "loaded model\n"
     ]
    }
   ],
   "source": [
    "import random\n",
    "import pandas as pd\n",
    "from tutorial_ioi_utils import *\n",
    "import pyvene as pv\n",
    "\n",
    "import matplotlib.pyplot as plt\n",
    "\n",
    "%config InlineBackend.figure_formats = ['svg']\n",
    "from plotnine import (\n",
    "    ggplot,\n",
    "    geom_tile,\n",
    "    aes,\n",
    "    facet_wrap,\n",
    "    theme,\n",
    "    element_text,\n",
    "    geom_bar,\n",
    "    geom_hline,\n",
    "    scale_y_log10,\n",
    "    scale_y_reverse,\n",
    "    scale_fill_cmap,\n",
    "    geom_text,\n",
    "    scale_fill_gradient,\n",
    "    geom_point,\n",
    "    geom_line,\n",
    "    theme_minimal,\n",
    "    ylim,\n",
    "    ggtitle,\n",
    "    ggsave,\n",
    "    labs,\n",
    "    scale_x_discrete,\n",
    "    geom_histogram,\n",
    "    scale_fill_manual,\n",
    ")\n",
    "\n",
    "# please try not to do this, the plot somehow throw warnings though :(\n",
    "import warnings\n",
    "\n",
    "warnings.filterwarnings(\"ignore\")\n",
    "\n",
    "config, tokenizer, gpt2 = pv.create_gpt2_lm()\n",
    "_ = gpt2.eval().to(\"cuda\")"
   ]
  },
  {
   "cell_type": "code",
   "execution_count": 50,
   "id": "2616301d",
   "metadata": {},
   "outputs": [],
   "source": [
    "train_distribution = PromptDistribution(\n",
    "    names=NAMES[: len(NAMES) // 2],\n",
    "    objects=OBJECTS[: len(OBJECTS) // 2],\n",
    "    places=PLACES[: len(PLACES) // 2],\n",
    "    prefix_len=2,\n",
    "    prefixes=PREFIXES,\n",
    "    templates=TEMPLATES[:2],\n",
    ")\n",
    "\n",
    "test_distribution = PromptDistribution(\n",
    "    names=NAMES[len(NAMES) // 2 :],\n",
    "    objects=OBJECTS[len(OBJECTS) // 2 :],\n",
    "    places=PLACES[len(PLACES) // 2 :],\n",
    "    prefix_len=2,\n",
    "    prefixes=PREFIXES,\n",
    "    templates=TEMPLATES[2:],\n",
    ")\n",
    "\n",
    "aligning_variable = \"position\"\n",
    "aligning_stream = \"block_output\"\n",
    "aligning_pos = 17\n",
    "aligning_layer = 8\n",
    "\n",
    "batch_size = 20\n",
    "eval_every = 5\n",
    "initial_lr = 1e-4\n",
    "n_epochs = 50\n",
    "\n",
    "if aligning_variable == \"name\":\n",
    "    # we hacky the distribution a little\n",
    "    train_distribution = PromptDistribution(\n",
    "        names=NAMES[:20],\n",
    "        objects=OBJECTS[: len(OBJECTS) // 2],\n",
    "        places=PLACES[: len(PLACES) // 2],\n",
    "        prefix_len=2,\n",
    "        prefixes=PREFIXES,\n",
    "        templates=TEMPLATES[:2],\n",
    "    )\n",
    "\n",
    "    test_distribution = PromptDistribution(\n",
    "        names=NAMES[:20],\n",
    "        objects=OBJECTS[len(OBJECTS) // 2 :],\n",
    "        places=PLACES[len(PLACES) // 2 :],\n",
    "        prefix_len=2,\n",
    "        prefixes=PREFIXES,\n",
    "        templates=TEMPLATES[2:],\n",
    "    )\n",
    "else:\n",
    "    train_distribution = PromptDistribution(\n",
    "        names=NAMES[: len(NAMES) // 2],\n",
    "        objects=OBJECTS[: len(OBJECTS) // 2],\n",
    "        places=PLACES[: len(PLACES) // 2],\n",
    "        prefix_len=2,\n",
    "        prefixes=PREFIXES,\n",
    "        templates=TEMPLATES[:2],\n",
    "    )\n",
    "\n",
    "    test_distribution = PromptDistribution(\n",
    "        names=NAMES[len(NAMES) // 2 :],\n",
    "        objects=OBJECTS[len(OBJECTS) // 2 :],\n",
    "        places=PLACES[len(PLACES) // 2 :],\n",
    "        prefix_len=2,\n",
    "        prefixes=PREFIXES,\n",
    "        templates=TEMPLATES[2:],\n",
    "    )\n",
    "\n",
    "D_train = train_distribution.sample_das(\n",
    "    tokenizer=tokenizer,\n",
    "    base_patterns=[\"ABB\", \"BAB\"],\n",
    "    source_patterns=[\"ABB\", \"BAB\"]\n",
    "    if aligning_variable == \"position\"\n",
    "    else [\"CDD\", \"DCD\"],\n",
    "    labels=aligning_variable,\n",
    "    samples_per_combination=50 if aligning_variable == \"position\" else 50,\n",
    ")\n",
    "D_test = test_distribution.sample_das(\n",
    "    tokenizer=tokenizer,\n",
    "    base_patterns=[\n",
    "        \"ABB\",\n",
    "    ],\n",
    "    source_patterns=[\"BAB\"] if aligning_variable == \"position\" else [\"DCD\"],\n",
    "    labels=aligning_variable,\n",
    "    samples_per_combination=50,\n",
    ") + test_distribution.sample_das(\n",
    "    tokenizer=tokenizer,\n",
    "    base_patterns=[\n",
    "        \"BAB\",\n",
    "    ],\n",
    "    source_patterns=[\"ABB\"] if aligning_variable == \"position\" else [\"CDD\"],\n",
    "    labels=aligning_variable,\n",
    "    samples_per_combination=50,\n",
    ")\n"
   ]
  },
  {
   "cell_type": "code",
   "execution_count": 51,
   "id": "73234357",
   "metadata": {},
   "outputs": [
    {
     "name": "stderr",
     "output_type": "stream",
     "text": [
      "100%|██████████████████████████████████████████████████████████████████████████████████████████████████████████████████████████████████████| 50/50 [00:17<00:00,  2.78it/s]"
     ]
    },
    {
     "name": "stdout",
     "output_type": "stream",
     "text": [
      "{'accuracy': 0.58, 'kl_div': tensor(-77.9607, device='cuda:0')}\n",
      "bits turned on:  tensor(534.7392, device='cuda:0', grad_fn=<SumBackward0>)\n"
     ]
    },
    {
     "name": "stderr",
     "output_type": "stream",
     "text": [
      "\n"
     ]
    }
   ],
   "source": [
    "def calculate_loss_with_mask(logits, labels, intervenable, coeff=1):\n",
    "    loss = calculate_loss(logits, labels)\n",
    "    for k, v in intervenable.interventions.items():\n",
    "        mask_loss = coeff * torch.norm(v.mask, 1)\n",
    "    loss += mask_loss\n",
    "    return loss\n",
    "\n",
    "config = pv.IntervenableConfig({\n",
    "    \"component\": aligning_stream, \"layer\": aligning_layer,\n",
    "    \"intervention_type\": pv.SigmoidMaskIntervention,\n",
    "    },\n",
    ")\n",
    "pv_gpt2 = pv.IntervenableModel(config, gpt2)\n",
    "pv_gpt2.set_device(\"cuda\")\n",
    "pv_gpt2.disable_model_gradients()\n",
    "\n",
    "total_step = 0\n",
    "optimizer = torch.optim.Adam(\n",
    "    pv_gpt2.get_trainable_parameters(), lr=initial_lr\n",
    ")\n",
    "target_total_step = int(len(D_train) / batch_size) * n_epochs\n",
    "temperature_start = 1e-2\n",
    "temperature_end = 1e-7\n",
    "temperature_schedule = (\n",
    "    torch.linspace(\n",
    "        temperature_start, temperature_end, target_total_step\n",
    "    ).to(torch.bfloat16).to(\"cuda\")\n",
    ")\n",
    "pv_gpt2.set_temperature(temperature_schedule[total_step])\n",
    "scheduler = torch.optim.lr_scheduler.LinearLR(\n",
    "    optimizer, end_factor=0.1, total_iters=n_epochs\n",
    ")\n",
    "\n",
    "for epoch in tqdm(range(n_epochs)):\n",
    "    torch.cuda.empty_cache()\n",
    "    for batch_dataset in D_train.batches(batch_size=batch_size):\n",
    "        # prepare base\n",
    "        base_inputs = batch_dataset.base.tokens\n",
    "        b_s = base_inputs[\"input_ids\"].shape[0]\n",
    "        for k, v in base_inputs.items():\n",
    "            if v is not None and isinstance(v, torch.Tensor):\n",
    "                base_inputs[k] = v.to(gpt2.device)\n",
    "        # prepare source\n",
    "        source_inputs = batch_dataset.source.tokens\n",
    "        for k, v in source_inputs.items():\n",
    "            if v is not None and isinstance(v, torch.Tensor):\n",
    "                source_inputs[k] = v.to(gpt2.device)\n",
    "        # prepare label\n",
    "        labels = batch_dataset.patched_answer_tokens[:, 0].to(\n",
    "            gpt2.device\n",
    "        )\n",
    "\n",
    "        assert all(x == 18 for x in batch_dataset.base.lengths)\n",
    "        assert all(x == 18 for x in batch_dataset.source.lengths)\n",
    "        _, counterfactual_outputs = pv_gpt2(\n",
    "            {\"input_ids\": base_inputs[\"input_ids\"]},\n",
    "            [{\"input_ids\": source_inputs[\"input_ids\"]}],\n",
    "            {\n",
    "                \"sources->base\": aligning_pos\n",
    "            },\n",
    "        )\n",
    "        eval_metrics = compute_metrics(\n",
    "            [counterfactual_outputs.logits], [labels]\n",
    "        )\n",
    "        loss = calculate_loss_with_mask(\n",
    "            counterfactual_outputs.logits, labels, pv_gpt2\n",
    "        )\n",
    "        loss_str = round(loss.item(), 2)\n",
    "        loss.backward()\n",
    "        optimizer.step()\n",
    "        scheduler.step()\n",
    "        pv_gpt2.set_zero_grad()\n",
    "        pv_gpt2.set_temperature(\n",
    "            temperature_schedule[total_step]\n",
    "        )\n",
    "        total_step += 1\n",
    "        \n",
    "# eval\n",
    "eval_labels = []\n",
    "eval_preds = []\n",
    "with torch.no_grad():\n",
    "    torch.cuda.empty_cache()\n",
    "    for batch_dataset in D_test.batches(batch_size=batch_size):\n",
    "        # prepare base\n",
    "        base_inputs = batch_dataset.base.tokens\n",
    "        b_s = base_inputs[\"input_ids\"].shape[0]\n",
    "        for k, v in base_inputs.items():\n",
    "            if v is not None and isinstance(v, torch.Tensor):\n",
    "                base_inputs[k] = v.to(gpt2.device)\n",
    "        # prepare source\n",
    "        source_inputs = batch_dataset.source.tokens\n",
    "        for k, v in source_inputs.items():\n",
    "            if v is not None and isinstance(v, torch.Tensor):\n",
    "                source_inputs[k] = v.to(gpt2.device)\n",
    "        # prepare label\n",
    "        labels = batch_dataset.patched_answer_tokens[:, 0].to(gpt2.device)\n",
    "\n",
    "        assert all(x == 18 for x in batch_dataset.base.lengths)\n",
    "        assert all(x == 18 for x in batch_dataset.source.lengths)\n",
    "        _, counterfactual_outputs = pv_gpt2(\n",
    "            {\"input_ids\": base_inputs[\"input_ids\"]},\n",
    "            [{\"input_ids\": source_inputs[\"input_ids\"]}],\n",
    "            {\n",
    "                \"sources->base\": aligning_pos\n",
    "            },\n",
    "        )\n",
    "        eval_labels += [labels]\n",
    "        eval_preds += [counterfactual_outputs.logits]\n",
    "eval_metrics = compute_metrics(eval_preds, eval_labels)\n",
    "for k, v in pv_gpt2.interventions.items():\n",
    "    mask = v.mask\n",
    "    temperature = v.temperature\n",
    "    break\n",
    "print(eval_metrics)\n",
    "print(\n",
    "    \"bits turned on: \", \n",
    "    torch.sigmoid(mask / torch.tensor(temperature)).sum()\n",
    ")"
   ]
  },
  {
   "cell_type": "code",
   "execution_count": 52,
   "id": "9ba4df72",
   "metadata": {},
   "outputs": [],
   "source": [
    "bit_map = torch.sigmoid(mask / torch.tensor(temperature)).tolist()"
   ]
  },
  {
   "cell_type": "code",
   "execution_count": 53,
   "id": "485e7a0b",
   "metadata": {},
   "outputs": [
    {
     "data": {
      "image/png": "[encoded data removed]",
      "text/plain": [
       "<Figure size 800x200 with 1 Axes>"
      ]
     },
     "metadata": {
      "image/png": {
       "height": 200,
       "width": 800
      }
     },
     "output_type": "display_data"
    },
    {
     "name": "stdout",
     "output_type": "stream",
     "text": [
      "\n"
     ]
    }
   ],
   "source": [
    "# Convert the list to a DataFrame\n",
    "df = pd.DataFrame({'Value': bit_map, 'Index': range(len(bit_map))})\n",
    "\n",
    "# Create a barplot\n",
    "plot = ggplot(df, aes(x='Index', weight='Value')) + geom_bar() + \\\n",
    "       ggtitle('Bitmap Visualization of Intervening Dimensions') + \\\n",
    "       theme(figure_size=(8,2))\n",
    "\n",
    "print(plot)"
   ]
  },
  {
   "cell_type": "code",
   "execution_count": null,
   "id": "968049e5",
   "metadata": {},
   "outputs": [],
   "source": []
  }
 ],
 "metadata": {
  "kernelspec": {
   "display_name": "Python 3 (ipykernel)",
   "language": "python",
   "name": "python3"
  },
  "language_info": {
   "codemirror_mode": {
    "name": "ipython",
    "version": 3
   },
   "file_extension": ".py",
   "mimetype": "text/x-python",
   "name": "python",
   "nbconvert_exporter": "python",
   "pygments_lexer": "ipython3",
   "version": "3.8.12"
  }
 },
 "nbformat": 4,
 "nbformat_minor": 5
}
